{
 "cells": [
  {
   "cell_type": "markdown",
   "id": "postal-berlin",
   "metadata": {},
   "source": [
    "<center><b>In the name of God</b></center>\n",
    "\n",
    "<b>Course</b>: Statistical Pattern Recognition\n",
    "<br>\n",
    "<b>Description:</b> HomeWork 2 | Question 5\n",
    "<br>\n",
    "<b>Developer</b>: Alireza Mazochi (400131075)"
   ]
  },
  {
   "cell_type": "code",
   "execution_count": 1,
   "id": "capital-wesley",
   "metadata": {},
   "outputs": [],
   "source": [
    "# Import Allowed Libraries\n",
    "import numpy as np\n",
    "import matplotlib.pyplot as plt\n",
    "import math\n",
    "import pandas as pd"
   ]
  },
  {
   "cell_type": "code",
   "execution_count": 2,
   "id": "northern-mirror",
   "metadata": {},
   "outputs": [],
   "source": [
    "data = pd.read_csv(\"./blood_test.csv\")"
   ]
  },
  {
   "cell_type": "code",
   "execution_count": 3,
   "id": "documented-toolbox",
   "metadata": {},
   "outputs": [
    {
     "data": {
      "text/html": [
       "<div>\n",
       "<style scoped>\n",
       "    .dataframe tbody tr th:only-of-type {\n",
       "        vertical-align: middle;\n",
       "    }\n",
       "\n",
       "    .dataframe tbody tr th {\n",
       "        vertical-align: top;\n",
       "    }\n",
       "\n",
       "    .dataframe thead th {\n",
       "        text-align: right;\n",
       "    }\n",
       "</style>\n",
       "<table border=\"1\" class=\"dataframe\">\n",
       "  <thead>\n",
       "    <tr style=\"text-align: right;\">\n",
       "      <th></th>\n",
       "      <th>mcv</th>\n",
       "      <th>alkphos</th>\n",
       "      <th>sgpt</th>\n",
       "      <th>sgot</th>\n",
       "      <th>gammagt</th>\n",
       "      <th>drinks</th>\n",
       "      <th>selector</th>\n",
       "    </tr>\n",
       "  </thead>\n",
       "  <tbody>\n",
       "    <tr>\n",
       "      <th>0</th>\n",
       "      <td>85</td>\n",
       "      <td>92</td>\n",
       "      <td>45</td>\n",
       "      <td>27</td>\n",
       "      <td>31</td>\n",
       "      <td>0.0</td>\n",
       "      <td>1</td>\n",
       "    </tr>\n",
       "    <tr>\n",
       "      <th>1</th>\n",
       "      <td>85</td>\n",
       "      <td>64</td>\n",
       "      <td>59</td>\n",
       "      <td>32</td>\n",
       "      <td>23</td>\n",
       "      <td>0.0</td>\n",
       "      <td>2</td>\n",
       "    </tr>\n",
       "    <tr>\n",
       "      <th>2</th>\n",
       "      <td>86</td>\n",
       "      <td>54</td>\n",
       "      <td>33</td>\n",
       "      <td>16</td>\n",
       "      <td>54</td>\n",
       "      <td>0.0</td>\n",
       "      <td>2</td>\n",
       "    </tr>\n",
       "    <tr>\n",
       "      <th>3</th>\n",
       "      <td>91</td>\n",
       "      <td>78</td>\n",
       "      <td>34</td>\n",
       "      <td>24</td>\n",
       "      <td>36</td>\n",
       "      <td>0.0</td>\n",
       "      <td>2</td>\n",
       "    </tr>\n",
       "    <tr>\n",
       "      <th>4</th>\n",
       "      <td>87</td>\n",
       "      <td>70</td>\n",
       "      <td>12</td>\n",
       "      <td>28</td>\n",
       "      <td>10</td>\n",
       "      <td>0.0</td>\n",
       "      <td>2</td>\n",
       "    </tr>\n",
       "    <tr>\n",
       "      <th>...</th>\n",
       "      <td>...</td>\n",
       "      <td>...</td>\n",
       "      <td>...</td>\n",
       "      <td>...</td>\n",
       "      <td>...</td>\n",
       "      <td>...</td>\n",
       "      <td>...</td>\n",
       "    </tr>\n",
       "    <tr>\n",
       "      <th>340</th>\n",
       "      <td>99</td>\n",
       "      <td>75</td>\n",
       "      <td>26</td>\n",
       "      <td>24</td>\n",
       "      <td>41</td>\n",
       "      <td>12.0</td>\n",
       "      <td>1</td>\n",
       "    </tr>\n",
       "    <tr>\n",
       "      <th>341</th>\n",
       "      <td>96</td>\n",
       "      <td>69</td>\n",
       "      <td>53</td>\n",
       "      <td>43</td>\n",
       "      <td>203</td>\n",
       "      <td>12.0</td>\n",
       "      <td>2</td>\n",
       "    </tr>\n",
       "    <tr>\n",
       "      <th>342</th>\n",
       "      <td>98</td>\n",
       "      <td>77</td>\n",
       "      <td>55</td>\n",
       "      <td>35</td>\n",
       "      <td>89</td>\n",
       "      <td>15.0</td>\n",
       "      <td>1</td>\n",
       "    </tr>\n",
       "    <tr>\n",
       "      <th>343</th>\n",
       "      <td>91</td>\n",
       "      <td>68</td>\n",
       "      <td>27</td>\n",
       "      <td>26</td>\n",
       "      <td>14</td>\n",
       "      <td>16.0</td>\n",
       "      <td>1</td>\n",
       "    </tr>\n",
       "    <tr>\n",
       "      <th>344</th>\n",
       "      <td>98</td>\n",
       "      <td>99</td>\n",
       "      <td>57</td>\n",
       "      <td>45</td>\n",
       "      <td>65</td>\n",
       "      <td>20.0</td>\n",
       "      <td>1</td>\n",
       "    </tr>\n",
       "  </tbody>\n",
       "</table>\n",
       "<p>345 rows × 7 columns</p>\n",
       "</div>"
      ],
      "text/plain": [
       "     mcv  alkphos  sgpt  sgot  gammagt  drinks  selector\n",
       "0     85       92    45    27       31     0.0         1\n",
       "1     85       64    59    32       23     0.0         2\n",
       "2     86       54    33    16       54     0.0         2\n",
       "3     91       78    34    24       36     0.0         2\n",
       "4     87       70    12    28       10     0.0         2\n",
       "..   ...      ...   ...   ...      ...     ...       ...\n",
       "340   99       75    26    24       41    12.0         1\n",
       "341   96       69    53    43      203    12.0         2\n",
       "342   98       77    55    35       89    15.0         1\n",
       "343   91       68    27    26       14    16.0         1\n",
       "344   98       99    57    45       65    20.0         1\n",
       "\n",
       "[345 rows x 7 columns]"
      ]
     },
     "execution_count": 3,
     "metadata": {},
     "output_type": "execute_result"
    }
   ],
   "source": [
    "data"
   ]
  },
  {
   "cell_type": "code",
   "execution_count": 4,
   "id": "enormous-quarter",
   "metadata": {},
   "outputs": [],
   "source": [
    "data[\"addicted\"] = data[\"drinks\"].apply(lambda x: x>5)"
   ]
  },
  {
   "cell_type": "code",
   "execution_count": 5,
   "id": "present-designer",
   "metadata": {},
   "outputs": [],
   "source": [
    "train_data = data[data[\"selector\"]==1]\n",
    "test_data = data[data[\"selector\"]==2]\n",
    "\n",
    "del train_data[\"drinks\"]\n",
    "del train_data[\"selector\"]\n",
    "del test_data[\"drinks\"]\n",
    "del test_data[\"selector\"]"
   ]
  },
  {
   "cell_type": "code",
   "execution_count": 6,
   "id": "enabling-thumb",
   "metadata": {},
   "outputs": [
    {
     "data": {
      "text/html": [
       "<div>\n",
       "<style scoped>\n",
       "    .dataframe tbody tr th:only-of-type {\n",
       "        vertical-align: middle;\n",
       "    }\n",
       "\n",
       "    .dataframe tbody tr th {\n",
       "        vertical-align: top;\n",
       "    }\n",
       "\n",
       "    .dataframe thead th {\n",
       "        text-align: right;\n",
       "    }\n",
       "</style>\n",
       "<table border=\"1\" class=\"dataframe\">\n",
       "  <thead>\n",
       "    <tr style=\"text-align: right;\">\n",
       "      <th></th>\n",
       "      <th>mcv</th>\n",
       "      <th>alkphos</th>\n",
       "      <th>sgpt</th>\n",
       "      <th>sgot</th>\n",
       "      <th>gammagt</th>\n",
       "      <th>addicted</th>\n",
       "    </tr>\n",
       "  </thead>\n",
       "  <tbody>\n",
       "    <tr>\n",
       "      <th>1</th>\n",
       "      <td>85</td>\n",
       "      <td>64</td>\n",
       "      <td>59</td>\n",
       "      <td>32</td>\n",
       "      <td>23</td>\n",
       "      <td>False</td>\n",
       "    </tr>\n",
       "    <tr>\n",
       "      <th>2</th>\n",
       "      <td>86</td>\n",
       "      <td>54</td>\n",
       "      <td>33</td>\n",
       "      <td>16</td>\n",
       "      <td>54</td>\n",
       "      <td>False</td>\n",
       "    </tr>\n",
       "    <tr>\n",
       "      <th>3</th>\n",
       "      <td>91</td>\n",
       "      <td>78</td>\n",
       "      <td>34</td>\n",
       "      <td>24</td>\n",
       "      <td>36</td>\n",
       "      <td>False</td>\n",
       "    </tr>\n",
       "    <tr>\n",
       "      <th>4</th>\n",
       "      <td>87</td>\n",
       "      <td>70</td>\n",
       "      <td>12</td>\n",
       "      <td>28</td>\n",
       "      <td>10</td>\n",
       "      <td>False</td>\n",
       "    </tr>\n",
       "    <tr>\n",
       "      <th>5</th>\n",
       "      <td>98</td>\n",
       "      <td>55</td>\n",
       "      <td>13</td>\n",
       "      <td>17</td>\n",
       "      <td>17</td>\n",
       "      <td>False</td>\n",
       "    </tr>\n",
       "    <tr>\n",
       "      <th>...</th>\n",
       "      <td>...</td>\n",
       "      <td>...</td>\n",
       "      <td>...</td>\n",
       "      <td>...</td>\n",
       "      <td>...</td>\n",
       "      <td>...</td>\n",
       "    </tr>\n",
       "    <tr>\n",
       "      <th>336</th>\n",
       "      <td>86</td>\n",
       "      <td>123</td>\n",
       "      <td>20</td>\n",
       "      <td>25</td>\n",
       "      <td>23</td>\n",
       "      <td>True</td>\n",
       "    </tr>\n",
       "    <tr>\n",
       "      <th>337</th>\n",
       "      <td>91</td>\n",
       "      <td>93</td>\n",
       "      <td>35</td>\n",
       "      <td>34</td>\n",
       "      <td>37</td>\n",
       "      <td>True</td>\n",
       "    </tr>\n",
       "    <tr>\n",
       "      <th>338</th>\n",
       "      <td>87</td>\n",
       "      <td>87</td>\n",
       "      <td>15</td>\n",
       "      <td>23</td>\n",
       "      <td>11</td>\n",
       "      <td>True</td>\n",
       "    </tr>\n",
       "    <tr>\n",
       "      <th>339</th>\n",
       "      <td>87</td>\n",
       "      <td>56</td>\n",
       "      <td>52</td>\n",
       "      <td>43</td>\n",
       "      <td>55</td>\n",
       "      <td>True</td>\n",
       "    </tr>\n",
       "    <tr>\n",
       "      <th>341</th>\n",
       "      <td>96</td>\n",
       "      <td>69</td>\n",
       "      <td>53</td>\n",
       "      <td>43</td>\n",
       "      <td>203</td>\n",
       "      <td>True</td>\n",
       "    </tr>\n",
       "  </tbody>\n",
       "</table>\n",
       "<p>200 rows × 6 columns</p>\n",
       "</div>"
      ],
      "text/plain": [
       "     mcv  alkphos  sgpt  sgot  gammagt  addicted\n",
       "1     85       64    59    32       23     False\n",
       "2     86       54    33    16       54     False\n",
       "3     91       78    34    24       36     False\n",
       "4     87       70    12    28       10     False\n",
       "5     98       55    13    17       17     False\n",
       "..   ...      ...   ...   ...      ...       ...\n",
       "336   86      123    20    25       23      True\n",
       "337   91       93    35    34       37      True\n",
       "338   87       87    15    23       11      True\n",
       "339   87       56    52    43       55      True\n",
       "341   96       69    53    43      203      True\n",
       "\n",
       "[200 rows x 6 columns]"
      ]
     },
     "execution_count": 6,
     "metadata": {},
     "output_type": "execute_result"
    }
   ],
   "source": [
    "test_data"
   ]
  },
  {
   "cell_type": "markdown",
   "id": "indonesian-stake",
   "metadata": {},
   "source": [
    "# a"
   ]
  },
  {
   "cell_type": "code",
   "execution_count": 7,
   "id": "related-flashing",
   "metadata": {},
   "outputs": [],
   "source": [
    "NUMBER_SAMPLES = 100"
   ]
  },
  {
   "cell_type": "code",
   "execution_count": 8,
   "id": "separate-modem",
   "metadata": {},
   "outputs": [],
   "source": [
    "CREATE_SAMPLES = False\n",
    "\n",
    "if CREATE_SAMPLES:\n",
    "    samples = train_data.sample(n=NUMBER_SAMPLES)\n",
    "    samples.to_csv(f\"./Samples/{NUMBER_SAMPLES}.csv\")\n",
    "else:\n",
    "    samples = pd.read_csv(f\"./Samples/{NUMBER_SAMPLES}.csv\").drop(columns=[\"Unnamed: 0\"])"
   ]
  },
  {
   "cell_type": "code",
   "execution_count": 9,
   "id": "peripheral-maria",
   "metadata": {},
   "outputs": [],
   "source": [
    "class_data = []\n",
    "class_data.append(samples[samples[\"addicted\"] == False][[\"mcv\", \"alkphos\", \"sgpt\", \"sgot\"]])\n",
    "class_data.append(samples[samples[\"addicted\"] == True][[\"mcv\", \"alkphos\", \"sgpt\", \"sgot\"]])"
   ]
  },
  {
   "cell_type": "code",
   "execution_count": 10,
   "id": "champion-teens",
   "metadata": {},
   "outputs": [],
   "source": [
    "class_mean = []\n",
    "for data in class_data:\n",
    "    class_mean.append(data.mean())\n",
    "    \n",
    "class_cov = []\n",
    "for data in class_data:\n",
    "    class_cov.append(data.cov())"
   ]
  },
  {
   "cell_type": "markdown",
   "id": "oriented-syndication",
   "metadata": {},
   "source": [
    "# b"
   ]
  },
  {
   "cell_type": "code",
   "execution_count": 11,
   "id": "greatest-portrait",
   "metadata": {},
   "outputs": [],
   "source": [
    "def p_likelihood(class_, test_item):\n",
    "    mean = class_mean[class_]\n",
    "    sigma = class_cov[class_].values\n",
    "    sigma_det = np.linalg.det(sigma)\n",
    "    sigma_inv = np.linalg.inv(sigma)\n",
    "    \n",
    "    x = test_item[[\"mcv\", \"alkphos\", \"sgpt\", \"sgot\"]]\n",
    "    n = 4\n",
    "    p = 1/((2*np.pi*sigma_det)**(n/2))*np.exp(-1/2* (x-mean).T @ sigma_inv @ (x-mean))\n",
    "    \n",
    "    return p"
   ]
  },
  {
   "cell_type": "code",
   "execution_count": 12,
   "id": "posted-spare",
   "metadata": {},
   "outputs": [],
   "source": [
    "def predict_mle(test_item):\n",
    "    return p_likelihood(0, test_item) < p_likelihood(1, test_item)"
   ]
  },
  {
   "cell_type": "code",
   "execution_count": 13,
   "id": "wound-colleague",
   "metadata": {},
   "outputs": [
    {
     "name": "stdout",
     "output_type": "stream",
     "text": [
      "Confusion Matrix:\n",
      " [[145  12]\n",
      " [ 30  13]]\n",
      "Accuracy = 79.0%\n"
     ]
    }
   ],
   "source": [
    "from sklearn.metrics import accuracy_score, confusion_matrix\n",
    "\n",
    "true_list = []\n",
    "predict_list = []\n",
    "for index, test_item in test_data.iterrows():\n",
    "    true_list.append(test_item[\"addicted\"])\n",
    "    predict_list.append(predict_mle(test_item))\n",
    "\n",
    "print(f\"Confusion Matrix:\\n {confusion_matrix(true_list, predict_list)}\")\n",
    "print(f\"Accuracy = {round(accuracy_score(true_list, predict_list)*100, 2)}%\")\n",
    " "
   ]
  },
  {
   "cell_type": "markdown",
   "id": "answering-sender",
   "metadata": {},
   "source": [
    "# c"
   ]
  },
  {
   "cell_type": "code",
   "execution_count": 14,
   "id": "quiet-facing",
   "metadata": {},
   "outputs": [],
   "source": [
    "class_prior = [len(samples[samples[\"addicted\"] == False])/len(samples)\n",
    "               , len(samples[samples[\"addicted\"] == True])/len(samples)]"
   ]
  },
  {
   "cell_type": "code",
   "execution_count": 15,
   "id": "mechanical-asbestos",
   "metadata": {},
   "outputs": [],
   "source": [
    "def predict_beyesian(test_item):\n",
    "    if p_likelihood(0, test_item) * class_prior[0] < p_likelihood(1, test_item) * class_prior[1]:\n",
    "        return True\n",
    "    else:\n",
    "        return False"
   ]
  },
  {
   "cell_type": "code",
   "execution_count": 16,
   "id": "gross-pollution",
   "metadata": {},
   "outputs": [
    {
     "name": "stdout",
     "output_type": "stream",
     "text": [
      "Confusion Matrix:\n",
      " [[146  11]\n",
      " [ 32  11]]\n",
      "Accuracy = 78.5%\n"
     ]
    }
   ],
   "source": [
    "from sklearn.metrics import accuracy_score, confusion_matrix\n",
    "\n",
    "true_list = []\n",
    "predict_list = []\n",
    "for index, test_item in test_data.iterrows():\n",
    "    true_list.append(test_item[\"addicted\"])\n",
    "    predict_list.append(predict_beyesian(test_item))\n",
    "\n",
    "print(f\"Confusion Matrix:\\n {confusion_matrix(true_list, predict_list)}\")\n",
    "print(f\"Accuracy = {round(accuracy_score(true_list, predict_list)*100, 2)}%\")"
   ]
  },
  {
   "cell_type": "markdown",
   "id": "ultimate-primary",
   "metadata": {},
   "source": [
    "# d"
   ]
  },
  {
   "cell_type": "code",
   "execution_count": 17,
   "id": "impaired-henry",
   "metadata": {},
   "outputs": [
    {
     "name": "stdout",
     "output_type": "stream",
     "text": [
      "mcv\n",
      "89.22857142857143\n",
      "12.758592132505177\n",
      "93.23333333333333\n",
      "8.254022988505746\n",
      "alkphos\n",
      "72.01428571428572\n",
      "305.08674948240173\n",
      "70.83333333333333\n",
      "515.1091954022988\n",
      "sgpt\n",
      "26.314285714285713\n",
      "73.03022774327121\n",
      "40.0\n",
      "472.82758620689657\n",
      "sgot\n",
      "20.071428571428573\n",
      "29.603519668737064\n",
      "27.133333333333333\n",
      "58.74022988505747\n"
     ]
    }
   ],
   "source": [
    "for feature in [\"mcv\", \"alkphos\", \"sgpt\", \"sgot\"]:\n",
    "    print(feature)\n",
    "    for class_ in [0,1]:\n",
    "        print(class_data[class_][feature].mean())\n",
    "        print(class_data[class_][feature].var())"
   ]
  },
  {
   "cell_type": "code",
   "execution_count": 100,
   "id": "tender-absolute",
   "metadata": {},
   "outputs": [],
   "source": [
    "selected_features = [\"sgpt\", \"mcv\"]"
   ]
  },
  {
   "cell_type": "code",
   "execution_count": 101,
   "id": "waiting-scholar",
   "metadata": {},
   "outputs": [],
   "source": [
    "class_mean = []\n",
    "for data in class_data:\n",
    "    class_mean.append(data[selected_features].mean())\n",
    "    \n",
    "class_cov = []\n",
    "for data in class_data:\n",
    "    class_cov.append(data[selected_features].cov())"
   ]
  },
  {
   "cell_type": "code",
   "execution_count": 102,
   "id": "peaceful-primary",
   "metadata": {},
   "outputs": [],
   "source": [
    "def p_likelihood(class_, test_item):\n",
    "    mean = class_mean[class_]\n",
    "    sigma = class_cov[class_].values\n",
    "    sigma_det = np.linalg.det(sigma)\n",
    "    sigma_inv = np.linalg.inv(sigma)\n",
    "    \n",
    "    x = test_item[selected_features]\n",
    "    n = 4\n",
    "    p = 1/((2*np.pi*sigma_det)**(n/2))*np.exp(-1/2* (x-mean).T @ sigma_inv @ (x-mean))\n",
    "    \n",
    "    return p"
   ]
  },
  {
   "cell_type": "code",
   "execution_count": 103,
   "id": "reduced-investor",
   "metadata": {},
   "outputs": [],
   "source": [
    "def predict_mle(test_item):\n",
    "    return p_likelihood(0, test_item) < p_likelihood(1, test_item)"
   ]
  },
  {
   "cell_type": "code",
   "execution_count": 104,
   "id": "prime-appreciation",
   "metadata": {},
   "outputs": [
    {
     "name": "stdout",
     "output_type": "stream",
     "text": [
      "Confusion Matrix:\n",
      " [[145  12]\n",
      " [ 33  10]]\n",
      "Accuracy = 77.5%\n"
     ]
    }
   ],
   "source": [
    "from sklearn.metrics import accuracy_score, confusion_matrix\n",
    "\n",
    "true_list = []\n",
    "predict_list = []\n",
    "for index, test_item in test_data.iterrows():\n",
    "    true_list.append(test_item[\"addicted\"])\n",
    "    predict_list.append(predict_mle(test_item))\n",
    "\n",
    "print(f\"Confusion Matrix:\\n {confusion_matrix(true_list, predict_list)}\")\n",
    "print(f\"Accuracy = {round(accuracy_score(true_list, predict_list)*100, 2)}%\")"
   ]
  },
  {
   "cell_type": "code",
   "execution_count": 111,
   "id": "introductory-colombia",
   "metadata": {},
   "outputs": [],
   "source": [
    "def decision_boundry(test_item):\n",
    "    return 0.85 < (p_likelihood(0, test_item) * class_prior[0]) / (p_likelihood(1, test_item) * class_prior[1]) < 1.15\n",
    "#     return 0.85 < (p_likelihood(0, test_item) * class_prior[0] * 3) / (p_likelihood(1, test_item) * class_prior[1] * 2) < 1.15"
   ]
  },
  {
   "cell_type": "code",
   "execution_count": 112,
   "id": "listed-hawaiian",
   "metadata": {},
   "outputs": [
    {
     "name": "stdout",
     "output_type": "stream",
     "text": [
      "40000\n",
      "0\n",
      "5000\n",
      "10000\n",
      "15000\n",
      "20000\n",
      "25000\n",
      "30000\n",
      "35000\n"
     ]
    },
    {
     "data": {
      "image/png": "[encoded data removed]",
      "text/plain": [
       "<Figure size 1080x1080 with 1 Axes>"
      ]
     },
     "metadata": {
      "needs_background": "light"
     },
     "output_type": "display_data"
    }
   ],
   "source": [
    "import numpy as np\n",
    "size = 100\n",
    "\n",
    "z_list = []\n",
    "for class_ in [0, 1]:\n",
    "    mean_x = class_data[class_][selected_features[0]].mean()\n",
    "    mean_y = class_data[class_][selected_features[1]].mean()\n",
    "    var_x = class_data[class_][selected_features[0]].var()\n",
    "    var_y = class_data[class_][selected_features[1]].var()\n",
    "    \n",
    "#     x = np.linspace(0, 100, size)\n",
    "#     y = np.linspace(0, 120, size)\n",
    "    \n",
    "    x = np.linspace(-20, 120, size)\n",
    "    y = np.linspace(60, 120, size)\n",
    "    \n",
    "    \n",
    "    sigma = class_data[class_][selected_features].cov()\n",
    "    \n",
    "    sigma_inv = np.linalg.inv(sigma)\n",
    "    sigma_det = np.linalg.det(sigma)\n",
    "    \n",
    "    z = []\n",
    "    \n",
    "    for yi in y:\n",
    "        zi = []\n",
    "        for xi in x:\n",
    "            xy_sub_mean = np.array([[xi-mean_x], [yi-mean_y]])        \n",
    "            zij = np.exp(-1/2 * xy_sub_mean.T @ sigma_inv @ xy_sub_mean) / (2 * np.pi * np.sqrt(sigma_det))\n",
    "\n",
    "            zi.append(float(zij))\n",
    "            \n",
    "        z.append(zi)\n",
    "            \n",
    "    z = np.array(z)\n",
    "\n",
    "    z_list.append(z)\n",
    "    \n",
    "    xy_sub_mean = np.array([[mean_x-mean_x], [mean_y-mean_y]])        \n",
    "    zij = np.exp(-1/2 * xy_sub_mean.T @ sigma_inv @ xy_sub_mean) / (2 * np.pi * np.sqrt(sigma_det))        \n",
    "    \n",
    "\n",
    "x, y = np.meshgrid(x, y)\n",
    "\n",
    "cs = plt.contourf(x,y,z_list[0]/np.nanmax(z_list[0]),[.1, .2, .3, .4 , .5, .6, .7, .8, .9],alpha=.5,cmap='Blues',extend='max')\n",
    "plt.contourf(x,y,z_list[1]/np.nanmax(z_list[1]),[.1, .2, .3, .4 , .5, .6, .7, .8, .9],alpha=.5,cmap='Reds',extend='max')\n",
    "\n",
    "x = np.linspace(-20, 120, 200)\n",
    "y = np.linspace(60, 120, 200)\n",
    "\n",
    "data = []\n",
    "for xi in x:\n",
    "    for yi in y:\n",
    "        data.append({selected_features[0]: xi, selected_features[1]: yi})\n",
    "\n",
    "print(len(data))\n",
    "\n",
    "xi_boundry = []\n",
    "yi_boundry = []\n",
    "for i, test_item in pd.DataFrame(data).iterrows():\n",
    "    if i%5000==0:\n",
    "        print(i)\n",
    "    if decision_boundry(test_item):    \n",
    "        xi_boundry.append(test_item[selected_features[0]])\n",
    "        yi_boundry.append(test_item[selected_features[1]])\n",
    "\n",
    "plt.scatter(xi_boundry, yi_boundry, s=25)\n",
    "\n",
    "plt.xlabel(selected_features[0])\n",
    "plt.ylabel(selected_features[1])\n",
    "plt.title(\"Bayes decision boundary\")\n",
    "\n",
    "plt.gcf().set_size_inches(15,15)\n",
    "plt.gcf().tight_layout()\n",
    "plt.show()"
   ]
  }
 ],
 "metadata": {
  "kernelspec": {
   "display_name": "Python 3",
   "language": "python",
   "name": "python3"
  },
  "language_info": {
   "codemirror_mode": {
    "name": "ipython",
    "version": 3
   },
   "file_extension": ".py",
   "mimetype": "text/x-python",
   "name": "python",
   "nbconvert_exporter": "python",
   "pygments_lexer": "ipython3",
   "version": "3.9.1"
  }
 },
 "nbformat": 4,
 "nbformat_minor": 5
}

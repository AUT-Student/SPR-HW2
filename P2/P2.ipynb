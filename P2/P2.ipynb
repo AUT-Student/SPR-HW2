{
 "cells": [
  {
   "cell_type": "code",
   "execution_count": 10,
   "id": "median-grounds",
   "metadata": {},
   "outputs": [],
   "source": [
    "from PIL import Image\n",
    "import numpy as np"
   ]
  },
  {
   "cell_type": "code",
   "execution_count": 11,
   "id": "radical-sacrifice",
   "metadata": {},
   "outputs": [],
   "source": [
    "def load_img_data(path):\n",
    "    im = Image.open(path)\n",
    "    data = np.array([[im.getpixel((i, j)) for i in range(60)] for j in range(60)])\n",
    "    return data"
   ]
  },
  {
   "cell_type": "code",
   "execution_count": 12,
   "id": "romance-identification",
   "metadata": {},
   "outputs": [],
   "source": [
    "def distance(data1, data2):\n",
    "    return np.linalg.norm(data1-data2, ord=2)"
   ]
  },
  {
   "cell_type": "code",
   "execution_count": 13,
   "id": "secret-employer",
   "metadata": {},
   "outputs": [],
   "source": [
    "import glob\n",
    "\n",
    "def all_path(group, part, class_):\n",
    "    return glob.glob(f\"./dataset/{group}/{part}/{class_}_*.png\")    "
   ]
  },
  {
   "cell_type": "code",
   "execution_count": 18,
   "id": "stone-supervisor",
   "metadata": {},
   "outputs": [],
   "source": [
    "def class_prototype(group, class_):\n",
    "    output = np.zeros((60,60))\n",
    "    number = 0\n",
    "    for path in all_path(group, \"Train\", class_):\n",
    "        data = load_img_data(path)\n",
    "        output += data\n",
    "        number += 1\n",
    "    \n",
    "    return output/number"
   ]
  },
  {
   "cell_type": "code",
   "execution_count": 45,
   "id": "cultural-cartridge",
   "metadata": {},
   "outputs": [
    {
     "name": "stdout",
     "output_type": "stream",
     "text": [
      "[[253.7 253.7 253.7 ... 253.7 253.7 253.7]\n",
      " [253.7 253.7 253.7 ... 253.7 253.7 253.7]\n",
      " [253.7 253.7 253.7 ... 253.7 253.7 253.7]\n",
      " ...\n",
      " [253.7 253.7 253.7 ... 253.7 253.7 253.7]\n",
      " [253.7 253.7 253.7 ... 253.7 253.7 253.7]\n",
      " [253.7 253.7 253.7 ... 253.7 253.7 253.7]]\n"
     ]
    }
   ],
   "source": [
    "pro = class_prototype(\"a\", 0)\n",
    "img = Image.fromarray(np.uint8(mat), 'L')"
   ]
  },
  {
   "cell_type": "code",
   "execution_count": 47,
   "id": "biblical-program",
   "metadata": {},
   "outputs": [
    {
     "data": {
      "image/png": "[encoded data removed]",
      "text/plain": [
       "<PIL.Image.Image image mode=L size=60x60 at 0x20B992BF430>"
      ]
     },
     "execution_count": 47,
     "metadata": {},
     "output_type": "execute_result"
    }
   ],
   "source": [
    "img"
   ]
  },
  {
   "cell_type": "code",
   "execution_count": 47,
   "id": "ongoing-kitchen",
   "metadata": {},
   "outputs": [],
   "source": [
    "data1 = load_img_data(\"./dataset/a/Train/0_01.png\")\n",
    "data2 = load_img_data(\"./dataset/a/Train/0_02.png\")\n",
    "data3 = load_img_data(\"./dataset/a/Train/1_01.png\")"
   ]
  },
  {
   "cell_type": "code",
   "execution_count": 51,
   "id": "dynamic-instruction",
   "metadata": {},
   "outputs": [
    {
     "name": "stdout",
     "output_type": "stream",
     "text": [
      "5057.300401676473\n",
      "5657.883208556236\n"
     ]
    }
   ],
   "source": [
    "print(np.linalg.norm(data1-data2, ord=2))\n",
    "print(np.linalg.norm(data1-data3, ord=2))"
   ]
  },
  {
   "cell_type": "code",
   "execution_count": null,
   "id": "deluxe-howard",
   "metadata": {},
   "outputs": [],
   "source": []
  },
  {
   "cell_type": "code",
   "execution_count": null,
   "id": "equivalent-cricket",
   "metadata": {},
   "outputs": [],
   "source": []
  }
 ],
 "metadata": {
  "kernelspec": {
   "display_name": "Python 3",
   "language": "python",
   "name": "python3"
  },
  "language_info": {
   "codemirror_mode": {
    "name": "ipython",
    "version": 3
   },
   "file_extension": ".py",
   "mimetype": "text/x-python",
   "name": "python",
   "nbconvert_exporter": "python",
   "pygments_lexer": "ipython3",
   "version": "3.9.1"
  }
 },
 "nbformat": 4,
 "nbformat_minor": 5
}

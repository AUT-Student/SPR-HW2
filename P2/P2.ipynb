{
 "cells": [
  {
   "cell_type": "markdown",
   "id": "joined-grammar",
   "metadata": {},
   "source": [
    "<center><b>In the name of God</b></center>\n",
    "\n",
    "<b>Course</b>: Statistical Pattern Recognition\n",
    "<br>\n",
    "<b>Description:</b> HomeWork 2 | Question 2\n",
    "<br>\n",
    "<b>Developer</b>: Alireza Mazochi (400131075)"
   ]
  },
  {
   "cell_type": "markdown",
   "id": "continental-brief",
   "metadata": {},
   "source": [
    "# Libraries"
   ]
  },
  {
   "cell_type": "code",
   "execution_count": 1,
   "id": "median-grounds",
   "metadata": {},
   "outputs": [],
   "source": [
    "# Import Allowed Libraries\n",
    "from PIL import Image\n",
    "import numpy as np\n",
    "import glob\n",
    "from sklearn.metrics import accuracy_score, f1_score, precision_score, recall_score, confusion_matrix"
   ]
  },
  {
   "cell_type": "markdown",
   "id": "involved-ocean",
   "metadata": {},
   "source": [
    "# Functions"
   ]
  },
  {
   "cell_type": "code",
   "execution_count": 2,
   "id": "radical-sacrifice",
   "metadata": {},
   "outputs": [],
   "source": [
    "def load_img_data(path):\n",
    "    \"\"\" Load an image and convert it to its data\"\"\"\n",
    "    im = Image.open(path)\n",
    "    data = np.array([[im.getpixel((i, j)) for i in range(60)] for j in range(60)])\n",
    "    return data"
   ]
  },
  {
   "cell_type": "code",
   "execution_count": 3,
   "id": "recent-cinema",
   "metadata": {},
   "outputs": [],
   "source": [
    "def distance(data1, data2):\n",
    "    \"\"\" Calcualte distance of two data \"\"\"\n",
    "    return np.linalg.norm(data1-data2, ord=2)"
   ]
  },
  {
   "cell_type": "code",
   "execution_count": 4,
   "id": "excellent-flavor",
   "metadata": {},
   "outputs": [],
   "source": [
    "def all_path(group, part, class_):\n",
    "    \"\"\" Return path of all items that exists for a class of a part of a group of the dataset!\"\"\"\n",
    "    return glob.glob(f\"./dataset/{group}/{part}/{class_}_*.png\")    "
   ]
  },
  {
   "cell_type": "code",
   "execution_count": 5,
   "id": "forbidden-digest",
   "metadata": {},
   "outputs": [],
   "source": [
    "def class_prototype(group, class_):\n",
    "    \"\"\" Calculate the prototype of a class \"\"\"\n",
    "    output = np.zeros((60,60))\n",
    "    number = 0\n",
    "    for path in all_path(group, \"Train\", class_):\n",
    "        data = load_img_data(path)\n",
    "        output += data\n",
    "        number += 1\n",
    "    \n",
    "    return output/number"
   ]
  },
  {
   "cell_type": "code",
   "execution_count": 6,
   "id": "tough-creation",
   "metadata": {},
   "outputs": [],
   "source": [
    "def deep_evaluation(true_list, predict_list):\n",
    "    \"\"\"\n",
    "    Report several evaluation metrics and the confusion matrix\n",
    "    \n",
    "    :param true_list: list of true labels\n",
    "    :param predict_list: list of predict labels\n",
    "    :return: Nothing\n",
    "    \"\"\"\n",
    "    print(f\"Confusion Matrix:\\n {confusion_matrix(true_list, predict_list)}\")\n",
    "    print(f\"Accuracy = {round(accuracy_score(true_list, predict_list)*100, 2)}%\")"
   ]
  },
  {
   "cell_type": "markdown",
   "id": "certified-photography",
   "metadata": {},
   "source": [
    "# Display Prototypes"
   ]
  },
  {
   "cell_type": "code",
   "execution_count": 7,
   "id": "announced-pizza",
   "metadata": {},
   "outputs": [],
   "source": [
    "group_information = {\"a\": 2, \"b\": 4, \"c\": 10}"
   ]
  },
  {
   "cell_type": "code",
   "execution_count": 8,
   "id": "finnish-boutique",
   "metadata": {},
   "outputs": [
    {
     "name": "stdout",
     "output_type": "stream",
     "text": [
      "Group a:\n"
     ]
    },
    {
     "data": {
      "image/png": "[encoded data removed]",
      "text/plain": [
       "<PIL.Image.Image image mode=L size=60x60 at 0x257A14CEEE0>"
      ]
     },
     "metadata": {},
     "output_type": "display_data"
    },
    {
     "data": {
      "image/png": "[encoded data removed]",
      "text/plain": [
       "<PIL.Image.Image image mode=L size=60x60 at 0x257BFDEEF40>"
      ]
     },
     "metadata": {},
     "output_type": "display_data"
    },
    {
     "name": "stdout",
     "output_type": "stream",
     "text": [
      "Group b:\n"
     ]
    },
    {
     "data": {
      "image/png": "[encoded data removed]",
      "text/plain": [
       "<PIL.Image.Image image mode=L size=60x60 at 0x257A14CEEE0>"
      ]
     },
     "metadata": {},
     "output_type": "display_data"
    },
    {
     "data": {
      "image/png": "[encoded data removed]",
      "text/plain": [
       "<PIL.Image.Image image mode=L size=60x60 at 0x257BFE88BE0>"
      ]
     },
     "metadata": {},
     "output_type": "display_data"
    },
    {
     "data": {
      "image/png": "[encoded data removed]",
      "text/plain": [
       "<PIL.Image.Image image mode=L size=60x60 at 0x257A14CEEE0>"
      ]
     },
     "metadata": {},
     "output_type": "display_data"
    },
    {
     "data": {
      "image/png": "[encoded data removed]",
      "text/plain": [
       "<PIL.Image.Image image mode=L size=60x60 at 0x257A14C8670>"
      ]
     },
     "metadata": {},
     "output_type": "display_data"
    },
    {
     "name": "stdout",
     "output_type": "stream",
     "text": [
      "Group c:\n"
     ]
    },
    {
     "data": {
      "image/png": "[encoded data removed]",
      "text/plain": [
       "<PIL.Image.Image image mode=L size=60x60 at 0x257A14CEEE0>"
      ]
     },
     "metadata": {},
     "output_type": "display_data"
    },
    {
     "data": {
      "image/png": "[encoded data removed]",
      "text/plain": [
       "<PIL.Image.Image image mode=L size=60x60 at 0x257A14C8670>"
      ]
     },
     "metadata": {},
     "output_type": "display_data"
    },
    {
     "data": {
      "image/png": "[encoded data removed]",
      "text/plain": [
       "<PIL.Image.Image image mode=L size=60x60 at 0x257A14CEEE0>"
      ]
     },
     "metadata": {},
     "output_type": "display_data"
    },
    {
     "data": {
      "image/png": "[encoded data removed]",
      "text/plain": [
       "<PIL.Image.Image image mode=L size=60x60 at 0x257A14C8670>"
      ]
     },
     "metadata": {},
     "output_type": "display_data"
    },
    {
     "data": {
      "image/png": "[encoded data removed]",
      "text/plain": [
       "<PIL.Image.Image image mode=L size=60x60 at 0x257A14CEEE0>"
      ]
     },
     "metadata": {},
     "output_type": "display_data"
    },
    {
     "data": {
      "image/png": "[encoded data removed]",
      "text/plain": [
       "<PIL.Image.Image image mode=L size=60x60 at 0x257BFDEEF40>"
      ]
     },
     "metadata": {},
     "output_type": "display_data"
    },
    {
     "data": {
      "image/png": "[encoded data removed]",
      "text/plain": [
       "<PIL.Image.Image image mode=L size=60x60 at 0x257BFDEED90>"
      ]
     },
     "metadata": {},
     "output_type": "display_data"
    },
    {
     "data": {
      "image/png": "[encoded data removed]",
      "text/plain": [
       "<PIL.Image.Image image mode=L size=60x60 at 0x257A14C8670>"
      ]
     },
     "metadata": {},
     "output_type": "display_data"
    },
    {
     "data": {
      "image/png": "[encoded data removed]",
      "text/plain": [
       "<PIL.Image.Image image mode=L size=60x60 at 0x257A14CEEE0>"
      ]
     },
     "metadata": {},
     "output_type": "display_data"
    },
    {
     "data": {
      "image/png": "[encoded data removed]",
      "text/plain": [
       "<PIL.Image.Image image mode=L size=60x60 at 0x257BFE88F70>"
      ]
     },
     "metadata": {},
     "output_type": "display_data"
    }
   ],
   "source": [
    "for group in group_information:\n",
    "    print(f\"Group {group}:\")\n",
    "    for class_ in range(group_information[group]):\n",
    "        prototype = class_prototype(group, class_)\n",
    "        img = Image.fromarray(np.uint8(prototype), 'L')\n",
    "        display(img)"
   ]
  },
  {
   "cell_type": "markdown",
   "id": "lovely-responsibility",
   "metadata": {},
   "source": [
    "# Evaluation"
   ]
  },
  {
   "cell_type": "code",
   "execution_count": 9,
   "id": "light-unknown",
   "metadata": {},
   "outputs": [
    {
     "name": "stdout",
     "output_type": "stream",
     "text": [
      "\n",
      "Group a:\n",
      "Confusion Matrix:\n",
      " [[10  0]\n",
      " [ 0 10]]\n",
      "Accuracy = 100.0%\n",
      "\n",
      "Group b:\n",
      "Confusion Matrix:\n",
      " [[ 9  0  1  0]\n",
      " [ 0  8  0  2]\n",
      " [ 0  0 10  0]\n",
      " [ 0  0  0 10]]\n",
      "Accuracy = 92.5%\n",
      "\n",
      "Group c:\n",
      "Confusion Matrix:\n",
      " [[ 9  0  1  0  0  0  0  0  0  0]\n",
      " [ 0  8  0  2  0  0  0  0  0  0]\n",
      " [ 0  0 10  0  0  0  0  0  0  0]\n",
      " [ 0  0  0  9  0  0  0  1  0  0]\n",
      " [ 0  0  0  0 10  0  0  0  0  0]\n",
      " [ 0  0  0  0  0 10  0  0  0  0]\n",
      " [ 0  0  0  0  0  1  9  0  0  0]\n",
      " [ 0  0  0  0  0  0  0 10  0  0]\n",
      " [ 0  0  0  2  0  0  0  0  8  0]\n",
      " [ 0  0  0  1  0  0  0  0  0  9]]\n",
      "Accuracy = 92.0%\n"
     ]
    }
   ],
   "source": [
    "for group in group_information:\n",
    "    print(f\"\\nGroup {group}:\")\n",
    "    group_number_class = group_information[group]\n",
    "    prototypes = []\n",
    "    true_list = []\n",
    "    predict_list = []\n",
    "    for class_ in range(group_number_class):\n",
    "        prototypes.append(class_prototype(group, class_))\n",
    "    \n",
    "    for class_ in range(group_number_class):\n",
    "        for path in all_path(group, \"Test\", class_):\n",
    "            data = load_img_data(path)\n",
    "            best_distance = 10**6\n",
    "            best_class = None\n",
    "            \n",
    "            for i, prototype in enumerate(prototypes):\n",
    "                if distance(prototype, data) < best_distance:\n",
    "                    best_distance = distance(prototype, data)\n",
    "                    best_class = i\n",
    "            \n",
    "            true_list.append(class_)\n",
    "            predict_list.append(best_class)\n",
    "    deep_evaluation(true_list, predict_list)\n",
    "            "
   ]
  },
  {
   "cell_type": "code",
   "execution_count": null,
   "id": "equivalent-cricket",
   "metadata": {},
   "outputs": [],
   "source": []
  }
 ],
 "metadata": {
  "kernelspec": {
   "display_name": "Python 3",
   "language": "python",
   "name": "python3"
  },
  "language_info": {
   "codemirror_mode": {
    "name": "ipython",
    "version": 3
   },
   "file_extension": ".py",
   "mimetype": "text/x-python",
   "name": "python",
   "nbconvert_exporter": "python",
   "pygments_lexer": "ipython3",
   "version": "3.9.1"
  }
 },
 "nbformat": 4,
 "nbformat_minor": 5
}
